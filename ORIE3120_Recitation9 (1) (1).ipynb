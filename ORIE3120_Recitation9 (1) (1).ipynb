{
 "cells": [
  {
   "cell_type": "markdown",
   "metadata": {
    "colab_type": "text",
    "id": "M_sj9n9iJwxh"
   },
   "source": [
    "# Welcome to Recitation 9!\n",
    "This recitation, we'll familiarize ourselves with Python and dive into some interesting data analysis using Python libraries.\n"
   ]
  },
  {
   "cell_type": "markdown",
   "metadata": {
    "colab_type": "text",
    "id": "xKP8Pq4mYyM_"
   },
   "source": [
    "This is a markdown cell. Try double clicking on this cell to correct the typo in this sentence:\n",
    "\n",
    "\"ORIE 3120 teaches impractical tools for operations research, data science, and machine learning.\""
   ]
  },
  {
   "cell_type": "markdown",
   "metadata": {
    "colab_type": "text",
    "id": "Dh9soj6lKB9_"
   },
   "source": [
    "The next cell will import the packages we need. Run it with ctrl-enter (PC) or cmd-enter (mac)."
   ]
  },
  {
   "cell_type": "code",
   "execution_count": 1,
   "metadata": {
    "colab": {},
    "colab_type": "code",
    "id": "CoP3YPMlJj1y"
   },
   "outputs": [],
   "source": [
    "import numpy as np\n",
    "import pandas as pd\n",
    "import matplotlib.pyplot as plt\n",
    "import random"
   ]
  },
  {
   "cell_type": "markdown",
   "metadata": {
    "colab_type": "text",
    "id": "YUdrMdGhJhAq"
   },
   "source": [
    "Let's practice assigning values to variables. We've assigned `a` to have the value 4. \n",
    "\n",
    "**Q:** Assign `b` to have the value 17 by double-clicking and editing the cell below."
   ]
  },
  {
   "cell_type": "code",
   "execution_count": 2,
   "metadata": {
    "colab": {},
    "colab_type": "code",
    "id": "hQe6CpFKKpDq"
   },
   "outputs": [],
   "source": [
    "a = 4\n",
    "b = 17#your code here"
   ]
  },
  {
   "cell_type": "markdown",
   "metadata": {
    "colab_type": "text",
    "id": "le4EorsBJi_C"
   },
   "source": [
    "Unlike Java, Python is dynamically typed which means at declaration, there is no requirement to specify a data type. Furthermore, we can change a variable name from one type to another without any error. \n",
    "\n",
    "The following cell contains variables of the string types.\n",
    "\n",
    "**Q:** Concatentate the two strings below with the \"+\" operator and print the cell to confirm that it works\n"
   ]
  },
  {
   "cell_type": "code",
   "execution_count": 3,
   "metadata": {
    "colab": {},
    "colab_type": "code",
    "id": "kGj-av0qKZJ3"
   },
   "outputs": [
    {
     "data": {
      "text/plain": [
       "'foobar'"
      ]
     },
     "execution_count": 3,
     "metadata": {},
     "output_type": "execute_result"
    }
   ],
   "source": [
    "s1 = \"foo\"\n",
    "s2 = \"bar\"\n",
    "\n",
    "s1 + s2\n",
    "###your code here ###"
   ]
  },
  {
   "cell_type": "markdown",
   "metadata": {
    "colab_type": "text",
    "id": "xt7aws-YK1gn"
   },
   "source": [
    "This allows the user more flexibity but increased responsibility of maintaining type invariants so that thier program doesn't crash. For example, Python will not accept a string being concatenated with a integer or float.\n",
    "\n",
    "**Q:** Before running the cell, what do you think the following will print? Will any of these throw an error?"
   ]
  },
  {
   "cell_type": "code",
   "execution_count": 4,
   "metadata": {
    "colab": {
     "base_uri": "https://localhost:8080/",
     "height": 228
    },
    "colab_type": "code",
    "id": "376aVvrwLV-n",
    "outputId": "ec0b1e0d-8a14-4f9f-9d41-683aa84a2501"
   },
   "outputs": [
    {
     "name": "stdout",
     "output_type": "stream",
     "text": [
      "Print statement 1: 22\n",
      "Print statement 2:  4\n"
     ]
    },
    {
     "ename": "TypeError",
     "evalue": "unsupported operand type(s) for +: 'int' and 'str'",
     "output_type": "error",
     "traceback": [
      "\u001b[0;31m---------------------------------------------------------------------------\u001b[0m",
      "\u001b[0;31mTypeError\u001b[0m                                 Traceback (most recent call last)",
      "\u001b[0;32m<ipython-input-4-0d3b1f78a270>\u001b[0m in \u001b[0;36m<module>\u001b[0;34m\u001b[0m\n\u001b[1;32m      1\u001b[0m \u001b[0mprint\u001b[0m\u001b[0;34m(\u001b[0m\u001b[0;34m\"Print statement 1: \"\u001b[0m \u001b[0;34m+\u001b[0m \u001b[0;34m'2'\u001b[0m \u001b[0;34m+\u001b[0m \u001b[0;34m'2'\u001b[0m\u001b[0;34m)\u001b[0m\u001b[0;34m\u001b[0m\u001b[0;34m\u001b[0m\u001b[0m\n\u001b[1;32m      2\u001b[0m \u001b[0mprint\u001b[0m\u001b[0;34m(\u001b[0m\u001b[0;34m\"Print statement 2: \"\u001b[0m \u001b[0;34m,\u001b[0m  \u001b[0;36m2\u001b[0m  \u001b[0;34m+\u001b[0m  \u001b[0;36m2\u001b[0m \u001b[0;34m)\u001b[0m\u001b[0;34m\u001b[0m\u001b[0;34m\u001b[0m\u001b[0m\n\u001b[0;32m----> 3\u001b[0;31m \u001b[0mprint\u001b[0m\u001b[0;34m(\u001b[0m\u001b[0;34m\"Print statement 3: \"\u001b[0m \u001b[0;34m,\u001b[0m \u001b[0;36m2\u001b[0m \u001b[0;34m+\u001b[0m  \u001b[0;34m'2'\u001b[0m \u001b[0;34m)\u001b[0m\u001b[0;34m\u001b[0m\u001b[0;34m\u001b[0m\u001b[0m\n\u001b[0m",
      "\u001b[0;31mTypeError\u001b[0m: unsupported operand type(s) for +: 'int' and 'str'"
     ]
    }
   ],
   "source": [
    "print(\"Print statement 1: \" + '2' + '2')\n",
    "print(\"Print statement 2: \" ,  2  +  2 )\n",
    "print(\"Print statement 3: \" , 2 +  '2' )"
   ]
  },
  {
   "cell_type": "markdown",
   "metadata": {
    "colab_type": "text",
    "id": "SAQlBZIjMIgS"
   },
   "source": [
    "Another core data structure is a list. There are many ways to create a list. Below are a couple of the ways of creating a list. Detailed below are two key functions when operating with lists: \n",
    "\n",
    "\"len(someList)\" will return the number of elements in that list.\n",
    "\n",
    "\"someList.append(x)\" will add the value located in the variable x to the end of someList.\n",
    "\n",
    "**Q:** Create your own list that includes all integers from 7 to 20 (inclusive) using the range function\n"
   ]
  },
  {
   "cell_type": "code",
   "execution_count": 5,
   "metadata": {
    "colab": {
     "base_uri": "https://localhost:8080/",
     "height": 33
    },
    "colab_type": "code",
    "id": "080D2LzKMl_e",
    "outputId": "f2f3d837-94af-4858-9129-149d078ceee4"
   },
   "outputs": [
    {
     "name": "stdout",
     "output_type": "stream",
     "text": [
      "Does your list correctly answer the question?  True\n"
     ]
    }
   ],
   "source": [
    "# These all create the same list\n",
    "lst1 = [0,1,2,3,4]    \n",
    "lst2 = list(range(5))\n",
    "lst3 = list(range(0,5))\n",
    "lst3 = list(range(0,5,1))\n",
    "# range(start, end, incremental) \n",
    "# NOTE: range does not include the end number\n",
    "# Also pass your variable into the list() function to convert to a list\n",
    "\n",
    "### Your code\n",
    "yourList = list(range(7,21,1)) #?? - replace the []\n",
    "###\n",
    "\n",
    "print(\"Does your list correctly answer the question? \", yourList == [7,8,9,10,11,12,13,14,15,16,17,18,19,20])"
   ]
  },
  {
   "cell_type": "markdown",
   "metadata": {
    "colab_type": "text",
    "id": "ZBaJpu_TS87m"
   },
   "source": [
    "Indexing in Python starts at 0 and is very convenient. You can also index backwards from the end of the list with negative numbers as shown below.\n",
    "\n",
    "**Q:** Print the product of the 1st element, the fifth element, and the last element from `yourList`.  "
   ]
  },
  {
   "cell_type": "code",
   "execution_count": 6,
   "metadata": {
    "colab": {
     "base_uri": "https://localhost:8080/",
     "height": 228
    },
    "colab_type": "code",
    "id": "TjtLO6duUPJH",
    "outputId": "6330d8c7-abb1-4b9b-cd88-3cd32d7a6b70"
   },
   "outputs": [
    {
     "name": "stdout",
     "output_type": "stream",
     "text": [
      "7\n",
      "8\n",
      "20\n",
      "19\n",
      "7\n",
      "11\n",
      "20\n"
     ]
    }
   ],
   "source": [
    "print(yourList[0]) # Accessing the first element\n",
    "print(yourList[1]) # Accessing the second element\n",
    "print(yourList[-1]) # Accessing the last element\n",
    "print(yourList[-2]) # Accessing the second to last element\n",
    "\n",
    "\n",
    "### your code\n",
    "print(yourList[0])\n",
    "print(yourList[4])\n",
    "print(yourList[-1])\n",
    "\n",
    "###"
   ]
  },
  {
   "cell_type": "markdown",
   "metadata": {
    "colab_type": "text",
    "id": "vWeS97uRMk5X"
   },
   "source": [
    "We can easily iterate through lists and manipulate their contents. \n",
    "We can also segment code into functions that are easy to reuse.\n",
    "\n",
    "Below we define a function `factNumber` that takes in a positive number $n$ and returns its factorial $n!$. For example, 1! = 1 and 3! = 6.\n",
    "\n",
    "**Q:** Below is a for loop that will iterate over `yourList`. Can you find the sum of the factorials of the numbers in `yourList`?"
   ]
  },
  {
   "cell_type": "code",
   "execution_count": 7,
   "metadata": {
    "colab": {
     "base_uri": "https://localhost:8080/",
     "height": 128
    },
    "colab_type": "code",
    "id": "jNyiv-SbQabR",
    "outputId": "1569c0a5-9598-4505-a809-9fd1f48af074"
   },
   "outputs": [
    {
     "name": "stdout",
     "output_type": "stream",
     "text": [
      "2561327494111819440\n"
     ]
    }
   ],
   "source": [
    "def factNumber(x):\n",
    "  factorialList = [1,1]\n",
    "  i = 2\n",
    "  while(len(factorialList) - 1< x):\n",
    "    factorialList.append(factorialList[-1]*i)\n",
    "    i = i+1\n",
    "  return factorialList[-1]\n",
    "\n",
    "aggregateSum = 0\n",
    "for x in yourList:\n",
    "  ### Your code\n",
    "  # Remember to call the function factNumber(someValue)\n",
    "  aggregateSum = aggregateSum + factNumber(x)\n",
    "  ###\n",
    "\n",
    "# This you should print 2561327494111819440\n",
    "print(aggregateSum)"
   ]
  },
  {
   "cell_type": "markdown",
   "metadata": {
    "colab_type": "text",
    "id": "BQU8xsreTXYM"
   },
   "source": [
    "**Q:** Now define your own function using the code above that takes in a list containing positive entries and returns the sum of their factorials."
   ]
  },
  {
   "cell_type": "code",
   "execution_count": 8,
   "metadata": {
    "colab": {
     "base_uri": "https://localhost:8080/",
     "height": 33
    },
    "colab_type": "code",
    "id": "Jc1Hcd9GTkAk",
    "outputId": "f7eec3d4-0e0f-428e-af58-164dcd004f03"
   },
   "outputs": [
    {
     "name": "stdout",
     "output_type": "stream",
     "text": [
      "2561327494111819440\n"
     ]
    }
   ],
   "source": [
    "### your code\n",
    "def yourFunc(someList):\n",
    "  ### Input should be array, dataset of random numbers\n",
    "  someVal = 0\n",
    "  for x in someList:\n",
    "    someVal = someVal + factNumber(x)\n",
    "  return someVal # Make sure to change someVal\n",
    "###\n",
    "\n",
    "# Calling it should print the same as above\n",
    "print(yourFunc(yourList))"
   ]
  },
  {
   "cell_type": "markdown",
   "metadata": {
    "colab_type": "text",
    "id": "N3tcUqVKZOPp"
   },
   "source": [
    "# Data Analysis\n",
    "\n",
    "Now suppose we are consulting with Cayuga Medical Center, a local hospital. They would like us to help them better understand the length of stay for diabetic patients. This information will allow them to plan beds availabilities more efficiently. "
   ]
  },
  {
   "cell_type": "markdown",
   "metadata": {
    "colab_type": "text",
    "id": "R8j7LOMcLSc0"
   },
   "source": [
    "Import the dataset `diabetic_data.csv` using `pandas`.\n",
    "Look at the data. \n",
    "\n",
    "**Q:** What type is the data in each column?"
   ]
  },
  {
   "cell_type": "code",
   "execution_count": 9,
   "metadata": {
    "colab": {},
    "colab_type": "code",
    "id": "7p1EJBf6TGwC"
   },
   "outputs": [
    {
     "data": {
      "text/html": [
       "<div>\n",
       "<style scoped>\n",
       "    .dataframe tbody tr th:only-of-type {\n",
       "        vertical-align: middle;\n",
       "    }\n",
       "\n",
       "    .dataframe tbody tr th {\n",
       "        vertical-align: top;\n",
       "    }\n",
       "\n",
       "    .dataframe thead th {\n",
       "        text-align: right;\n",
       "    }\n",
       "</style>\n",
       "<table border=\"1\" class=\"dataframe\">\n",
       "  <thead>\n",
       "    <tr style=\"text-align: right;\">\n",
       "      <th></th>\n",
       "      <th>encounter_id</th>\n",
       "      <th>patient_nbr</th>\n",
       "      <th>race</th>\n",
       "      <th>gender</th>\n",
       "      <th>age</th>\n",
       "      <th>weight</th>\n",
       "      <th>admission_type_id</th>\n",
       "      <th>discharge_disposition_id</th>\n",
       "      <th>admission_source_id</th>\n",
       "      <th>time_in_hospital</th>\n",
       "      <th>...</th>\n",
       "      <th>citoglipton</th>\n",
       "      <th>insulin</th>\n",
       "      <th>glyburide-metformin</th>\n",
       "      <th>glipizide-metformin</th>\n",
       "      <th>glimepiride-pioglitazone</th>\n",
       "      <th>metformin-rosiglitazone</th>\n",
       "      <th>metformin-pioglitazone</th>\n",
       "      <th>change</th>\n",
       "      <th>diabetesMed</th>\n",
       "      <th>readmitted</th>\n",
       "    </tr>\n",
       "  </thead>\n",
       "  <tbody>\n",
       "    <tr>\n",
       "      <th>0</th>\n",
       "      <td>2278392</td>\n",
       "      <td>8222157</td>\n",
       "      <td>Caucasian</td>\n",
       "      <td>Female</td>\n",
       "      <td>[0-10)</td>\n",
       "      <td>?</td>\n",
       "      <td>6</td>\n",
       "      <td>25</td>\n",
       "      <td>1</td>\n",
       "      <td>1</td>\n",
       "      <td>...</td>\n",
       "      <td>No</td>\n",
       "      <td>No</td>\n",
       "      <td>No</td>\n",
       "      <td>No</td>\n",
       "      <td>No</td>\n",
       "      <td>No</td>\n",
       "      <td>No</td>\n",
       "      <td>No</td>\n",
       "      <td>No</td>\n",
       "      <td>NO</td>\n",
       "    </tr>\n",
       "    <tr>\n",
       "      <th>1</th>\n",
       "      <td>149190</td>\n",
       "      <td>55629189</td>\n",
       "      <td>Caucasian</td>\n",
       "      <td>Female</td>\n",
       "      <td>[10-20)</td>\n",
       "      <td>?</td>\n",
       "      <td>1</td>\n",
       "      <td>1</td>\n",
       "      <td>7</td>\n",
       "      <td>3</td>\n",
       "      <td>...</td>\n",
       "      <td>No</td>\n",
       "      <td>Up</td>\n",
       "      <td>No</td>\n",
       "      <td>No</td>\n",
       "      <td>No</td>\n",
       "      <td>No</td>\n",
       "      <td>No</td>\n",
       "      <td>Ch</td>\n",
       "      <td>Yes</td>\n",
       "      <td>&gt;30</td>\n",
       "    </tr>\n",
       "    <tr>\n",
       "      <th>2</th>\n",
       "      <td>64410</td>\n",
       "      <td>86047875</td>\n",
       "      <td>AfricanAmerican</td>\n",
       "      <td>Female</td>\n",
       "      <td>[20-30)</td>\n",
       "      <td>?</td>\n",
       "      <td>1</td>\n",
       "      <td>1</td>\n",
       "      <td>7</td>\n",
       "      <td>2</td>\n",
       "      <td>...</td>\n",
       "      <td>No</td>\n",
       "      <td>No</td>\n",
       "      <td>No</td>\n",
       "      <td>No</td>\n",
       "      <td>No</td>\n",
       "      <td>No</td>\n",
       "      <td>No</td>\n",
       "      <td>No</td>\n",
       "      <td>Yes</td>\n",
       "      <td>NO</td>\n",
       "    </tr>\n",
       "    <tr>\n",
       "      <th>3</th>\n",
       "      <td>500364</td>\n",
       "      <td>82442376</td>\n",
       "      <td>Caucasian</td>\n",
       "      <td>Male</td>\n",
       "      <td>[30-40)</td>\n",
       "      <td>?</td>\n",
       "      <td>1</td>\n",
       "      <td>1</td>\n",
       "      <td>7</td>\n",
       "      <td>2</td>\n",
       "      <td>...</td>\n",
       "      <td>No</td>\n",
       "      <td>Up</td>\n",
       "      <td>No</td>\n",
       "      <td>No</td>\n",
       "      <td>No</td>\n",
       "      <td>No</td>\n",
       "      <td>No</td>\n",
       "      <td>Ch</td>\n",
       "      <td>Yes</td>\n",
       "      <td>NO</td>\n",
       "    </tr>\n",
       "    <tr>\n",
       "      <th>4</th>\n",
       "      <td>16680</td>\n",
       "      <td>42519267</td>\n",
       "      <td>Caucasian</td>\n",
       "      <td>Male</td>\n",
       "      <td>[40-50)</td>\n",
       "      <td>?</td>\n",
       "      <td>1</td>\n",
       "      <td>1</td>\n",
       "      <td>7</td>\n",
       "      <td>1</td>\n",
       "      <td>...</td>\n",
       "      <td>No</td>\n",
       "      <td>Steady</td>\n",
       "      <td>No</td>\n",
       "      <td>No</td>\n",
       "      <td>No</td>\n",
       "      <td>No</td>\n",
       "      <td>No</td>\n",
       "      <td>Ch</td>\n",
       "      <td>Yes</td>\n",
       "      <td>NO</td>\n",
       "    </tr>\n",
       "    <tr>\n",
       "      <th>...</th>\n",
       "      <td>...</td>\n",
       "      <td>...</td>\n",
       "      <td>...</td>\n",
       "      <td>...</td>\n",
       "      <td>...</td>\n",
       "      <td>...</td>\n",
       "      <td>...</td>\n",
       "      <td>...</td>\n",
       "      <td>...</td>\n",
       "      <td>...</td>\n",
       "      <td>...</td>\n",
       "      <td>...</td>\n",
       "      <td>...</td>\n",
       "      <td>...</td>\n",
       "      <td>...</td>\n",
       "      <td>...</td>\n",
       "      <td>...</td>\n",
       "      <td>...</td>\n",
       "      <td>...</td>\n",
       "      <td>...</td>\n",
       "      <td>...</td>\n",
       "    </tr>\n",
       "    <tr>\n",
       "      <th>101761</th>\n",
       "      <td>443847548</td>\n",
       "      <td>100162476</td>\n",
       "      <td>AfricanAmerican</td>\n",
       "      <td>Male</td>\n",
       "      <td>[70-80)</td>\n",
       "      <td>?</td>\n",
       "      <td>1</td>\n",
       "      <td>3</td>\n",
       "      <td>7</td>\n",
       "      <td>3</td>\n",
       "      <td>...</td>\n",
       "      <td>No</td>\n",
       "      <td>Down</td>\n",
       "      <td>No</td>\n",
       "      <td>No</td>\n",
       "      <td>No</td>\n",
       "      <td>No</td>\n",
       "      <td>No</td>\n",
       "      <td>Ch</td>\n",
       "      <td>Yes</td>\n",
       "      <td>&gt;30</td>\n",
       "    </tr>\n",
       "    <tr>\n",
       "      <th>101762</th>\n",
       "      <td>443847782</td>\n",
       "      <td>74694222</td>\n",
       "      <td>AfricanAmerican</td>\n",
       "      <td>Female</td>\n",
       "      <td>[80-90)</td>\n",
       "      <td>?</td>\n",
       "      <td>1</td>\n",
       "      <td>4</td>\n",
       "      <td>5</td>\n",
       "      <td>5</td>\n",
       "      <td>...</td>\n",
       "      <td>No</td>\n",
       "      <td>Steady</td>\n",
       "      <td>No</td>\n",
       "      <td>No</td>\n",
       "      <td>No</td>\n",
       "      <td>No</td>\n",
       "      <td>No</td>\n",
       "      <td>No</td>\n",
       "      <td>Yes</td>\n",
       "      <td>NO</td>\n",
       "    </tr>\n",
       "    <tr>\n",
       "      <th>101763</th>\n",
       "      <td>443854148</td>\n",
       "      <td>41088789</td>\n",
       "      <td>Caucasian</td>\n",
       "      <td>Male</td>\n",
       "      <td>[70-80)</td>\n",
       "      <td>?</td>\n",
       "      <td>1</td>\n",
       "      <td>1</td>\n",
       "      <td>7</td>\n",
       "      <td>1</td>\n",
       "      <td>...</td>\n",
       "      <td>No</td>\n",
       "      <td>Down</td>\n",
       "      <td>No</td>\n",
       "      <td>No</td>\n",
       "      <td>No</td>\n",
       "      <td>No</td>\n",
       "      <td>No</td>\n",
       "      <td>Ch</td>\n",
       "      <td>Yes</td>\n",
       "      <td>NO</td>\n",
       "    </tr>\n",
       "    <tr>\n",
       "      <th>101764</th>\n",
       "      <td>443857166</td>\n",
       "      <td>31693671</td>\n",
       "      <td>Caucasian</td>\n",
       "      <td>Female</td>\n",
       "      <td>[80-90)</td>\n",
       "      <td>?</td>\n",
       "      <td>2</td>\n",
       "      <td>3</td>\n",
       "      <td>7</td>\n",
       "      <td>10</td>\n",
       "      <td>...</td>\n",
       "      <td>No</td>\n",
       "      <td>Up</td>\n",
       "      <td>No</td>\n",
       "      <td>No</td>\n",
       "      <td>No</td>\n",
       "      <td>No</td>\n",
       "      <td>No</td>\n",
       "      <td>Ch</td>\n",
       "      <td>Yes</td>\n",
       "      <td>NO</td>\n",
       "    </tr>\n",
       "    <tr>\n",
       "      <th>101765</th>\n",
       "      <td>443867222</td>\n",
       "      <td>175429310</td>\n",
       "      <td>Caucasian</td>\n",
       "      <td>Male</td>\n",
       "      <td>[70-80)</td>\n",
       "      <td>?</td>\n",
       "      <td>1</td>\n",
       "      <td>1</td>\n",
       "      <td>7</td>\n",
       "      <td>6</td>\n",
       "      <td>...</td>\n",
       "      <td>No</td>\n",
       "      <td>No</td>\n",
       "      <td>No</td>\n",
       "      <td>No</td>\n",
       "      <td>No</td>\n",
       "      <td>No</td>\n",
       "      <td>No</td>\n",
       "      <td>No</td>\n",
       "      <td>No</td>\n",
       "      <td>NO</td>\n",
       "    </tr>\n",
       "  </tbody>\n",
       "</table>\n",
       "<p>101766 rows × 50 columns</p>\n",
       "</div>"
      ],
      "text/plain": [
       "        encounter_id  patient_nbr             race  gender      age weight  \\\n",
       "0            2278392      8222157        Caucasian  Female   [0-10)      ?   \n",
       "1             149190     55629189        Caucasian  Female  [10-20)      ?   \n",
       "2              64410     86047875  AfricanAmerican  Female  [20-30)      ?   \n",
       "3             500364     82442376        Caucasian    Male  [30-40)      ?   \n",
       "4              16680     42519267        Caucasian    Male  [40-50)      ?   \n",
       "...              ...          ...              ...     ...      ...    ...   \n",
       "101761     443847548    100162476  AfricanAmerican    Male  [70-80)      ?   \n",
       "101762     443847782     74694222  AfricanAmerican  Female  [80-90)      ?   \n",
       "101763     443854148     41088789        Caucasian    Male  [70-80)      ?   \n",
       "101764     443857166     31693671        Caucasian  Female  [80-90)      ?   \n",
       "101765     443867222    175429310        Caucasian    Male  [70-80)      ?   \n",
       "\n",
       "        admission_type_id  discharge_disposition_id  admission_source_id  \\\n",
       "0                       6                        25                    1   \n",
       "1                       1                         1                    7   \n",
       "2                       1                         1                    7   \n",
       "3                       1                         1                    7   \n",
       "4                       1                         1                    7   \n",
       "...                   ...                       ...                  ...   \n",
       "101761                  1                         3                    7   \n",
       "101762                  1                         4                    5   \n",
       "101763                  1                         1                    7   \n",
       "101764                  2                         3                    7   \n",
       "101765                  1                         1                    7   \n",
       "\n",
       "        time_in_hospital  ... citoglipton insulin  glyburide-metformin  \\\n",
       "0                      1  ...          No      No                   No   \n",
       "1                      3  ...          No      Up                   No   \n",
       "2                      2  ...          No      No                   No   \n",
       "3                      2  ...          No      Up                   No   \n",
       "4                      1  ...          No  Steady                   No   \n",
       "...                  ...  ...         ...     ...                  ...   \n",
       "101761                 3  ...          No    Down                   No   \n",
       "101762                 5  ...          No  Steady                   No   \n",
       "101763                 1  ...          No    Down                   No   \n",
       "101764                10  ...          No      Up                   No   \n",
       "101765                 6  ...          No      No                   No   \n",
       "\n",
       "        glipizide-metformin  glimepiride-pioglitazone  \\\n",
       "0                        No                        No   \n",
       "1                        No                        No   \n",
       "2                        No                        No   \n",
       "3                        No                        No   \n",
       "4                        No                        No   \n",
       "...                     ...                       ...   \n",
       "101761                   No                        No   \n",
       "101762                   No                        No   \n",
       "101763                   No                        No   \n",
       "101764                   No                        No   \n",
       "101765                   No                        No   \n",
       "\n",
       "        metformin-rosiglitazone  metformin-pioglitazone  change diabetesMed  \\\n",
       "0                            No                      No      No          No   \n",
       "1                            No                      No      Ch         Yes   \n",
       "2                            No                      No      No         Yes   \n",
       "3                            No                      No      Ch         Yes   \n",
       "4                            No                      No      Ch         Yes   \n",
       "...                         ...                     ...     ...         ...   \n",
       "101761                       No                      No      Ch         Yes   \n",
       "101762                       No                      No      No         Yes   \n",
       "101763                       No                      No      Ch         Yes   \n",
       "101764                       No                      No      Ch         Yes   \n",
       "101765                       No                      No      No          No   \n",
       "\n",
       "       readmitted  \n",
       "0              NO  \n",
       "1             >30  \n",
       "2              NO  \n",
       "3              NO  \n",
       "4              NO  \n",
       "...           ...  \n",
       "101761        >30  \n",
       "101762         NO  \n",
       "101763         NO  \n",
       "101764         NO  \n",
       "101765         NO  \n",
       "\n",
       "[101766 rows x 50 columns]"
      ]
     },
     "execution_count": 9,
     "metadata": {},
     "output_type": "execute_result"
    }
   ],
   "source": [
    "# your code to import data here\n",
    "# check data types\n",
    "data = pd.read_csv('diabetic_data.csv')\n",
    "data"
   ]
  },
  {
   "cell_type": "markdown",
   "metadata": {
    "colab_type": "text",
    "id": "QCM0b23GLvbX"
   },
   "source": [
    "Each day 20 patients arrive at our hospital. We'll call that group of 20 patients a **cohort**. We are interested in the duration of hospital stays for cohorts so that we can ensure we have enough beds. \n",
    "\n",
    "**Q:** Take a random sample of 20 patients. Try running this command 3 times to see that the cohort is different every time. "
   ]
  },
  {
   "cell_type": "code",
   "execution_count": 12,
   "metadata": {
    "colab": {},
    "colab_type": "code",
    "id": "_0WCm8DnTXMT"
   },
   "outputs": [],
   "source": [
    "# generate 20 random numbers from the data set of patient stays\n",
    "# your code here\n",
    "#hint: use the random library\n",
    "x = random.sample(list(data[\"time_in_hospital\"]), 20)"
   ]
  },
  {
   "cell_type": "markdown",
   "metadata": {
    "colab_type": "text",
    "id": "6Df5yhilb27g"
   },
   "source": [
    "**Q:** Write a function to compute the total time a list of patients will spend in the hospital. The input should be the column specifying time spent in hospital, and the output should be the sum of the time your random sample of 20 patients spend in the hospital.\n"
   ]
  },
  {
   "cell_type": "code",
   "execution_count": 13,
   "metadata": {
    "colab": {},
    "colab_type": "code",
    "id": "VjvUI-pWb8nv"
   },
   "outputs": [
    {
     "data": {
      "text/plain": [
       "76"
      ]
     },
     "execution_count": 13,
     "metadata": {},
     "output_type": "execute_result"
    }
   ],
   "source": [
    "#your code here\n",
    "def sumTime(x):\n",
    "    total = 0\n",
    "    for i in x:\n",
    "        total += i\n",
    "    return(total)\n",
    "sumTime(x)"
   ]
  },
  {
   "cell_type": "markdown",
   "metadata": {
    "colab_type": "text",
    "id": "ePsjeo5yZZyA"
   },
   "source": [
    "**Q:** Apply your function to three randomly chosen lists of 20 patients to see that the total time is different on each cohort."
   ]
  },
  {
   "cell_type": "code",
   "execution_count": 14,
   "metadata": {
    "colab": {},
    "colab_type": "code",
    "id": "prhbqgWTdCrF"
   },
   "outputs": [
    {
     "name": "stdout",
     "output_type": "stream",
     "text": [
      "92 81 76\n"
     ]
    }
   ],
   "source": [
    "#your code here\n",
    "a = sumTime(random.sample(list(data[\"time_in_hospital\"]), 20))\n",
    "b = sumTime(random.sample(list(data[\"time_in_hospital\"]), 20))\n",
    "c = sumTime(random.sample(list(data[\"time_in_hospital\"]), 20))\n",
    "print(a, b, c)\n"
   ]
  },
  {
   "cell_type": "markdown",
   "metadata": {
    "colab_type": "text",
    "id": "RIgAXI-sMOYb"
   },
   "source": [
    "Let's compute the duration of 100 random samples and collect these in the list `durations`. Plot the resulting distribution with `plt.hist()`. \n",
    "\n",
    "**Q:** What is the mean duration among these samples?"
   ]
  },
  {
   "cell_type": "code",
   "execution_count": 16,
   "metadata": {
    "colab": {},
    "colab_type": "code",
    "id": "MJNgUJP0dl6U"
   },
   "outputs": [
    {
     "data": {
      "text/plain": [
       "(array([ 4.,  3., 12., 19., 18., 17., 16.,  3.,  7.,  1.]),\n",
       " array([ 58. ,  64.6,  71.2,  77.8,  84.4,  91. ,  97.6, 104.2, 110.8,\n",
       "        117.4, 124. ]),\n",
       " <a list of 10 Patch objects>)"
      ]
     },
     "execution_count": 16,
     "metadata": {},
     "output_type": "execute_result"
    },
    {
     "data": {
      "image/png": "[encoded data removed]",
      "text/plain": [
       "<Figure size 432x288 with 1 Axes>"
      ]
     },
     "metadata": {
      "needs_background": "light"
     },
     "output_type": "display_data"
    }
   ],
   "source": [
    "#your code here\n",
    "durations = []\n",
    "for i in range(100):\n",
    "    k = sumTime(random.sample(list(data[\"time_in_hospital\"]), 20))\n",
    "    durations.append(k)\n",
    "plt.hist(durations)"
   ]
  },
  {
   "cell_type": "markdown",
   "metadata": {
    "colab_type": "text",
    "id": "_4BE-ghN0za-"
   },
   "source": [
    "**Q:** Describe the shape of this distribution. "
   ]
  },
  {
   "cell_type": "markdown",
   "metadata": {
    "colab_type": "text",
    "id": "fovxlSHC078k"
   },
   "source": [
    "Fairly normal distribution"
   ]
  },
  {
   "cell_type": "markdown",
   "metadata": {
    "colab_type": "text",
    "id": "l-DWaTKVMg6t"
   },
   "source": [
    "**Q:** \n",
    "\n",
    "a) What is the expected duration of stay for one patient drawn at random from our original dataset?\n",
    "\n",
    "b) We assume independence and identical distribution in our dataset. So, we can multiply our value in part a by 20 to get expected duration of stay for a cohort of 20 people. We will call this the **true mean** duration of stay for a cohort. Calculate the true mean for a cohort. \n",
    "\n",
    "c) How is our result in part b expected to vary across our 100 random samples of 20 patients each?"
   ]
  },
  {
   "cell_type": "code",
   "execution_count": 21,
   "metadata": {
    "colab": {},
    "colab_type": "code",
    "id": "we4idMIte2jB"
   },
   "outputs": [
    {
     "name": "stdout",
     "output_type": "stream",
     "text": [
      "a: 4.395986871843248\n",
      "b: 87.91973743686496\n",
      "c: Value calculated in b should not vary much\n"
     ]
    }
   ],
   "source": [
    "# use numpy\n",
    "#your code here\n",
    "times = data[\"time_in_hospital\"]\n",
    "s = 0\n",
    "for i in times:\n",
    "    s += i\n",
    "mean = s/len(times)\n",
    "print(\"a:\", mean)\n",
    "print(\"b:\", mean*20)\n",
    "print(\"c: Value calculated in b should not vary much\")\n"
   ]
  },
  {
   "cell_type": "markdown",
   "metadata": {
    "colab_type": "text",
    "id": "Oz6nKv30NAGG"
   },
   "source": [
    "**Q:** What fraction of the durations of the random cohorts had a total stay of at least two months (60 days)? Explain how to use this to estimate the probability that the total stay is at least two months."
   ]
  },
  {
   "cell_type": "code",
   "execution_count": 28,
   "metadata": {
    "colab": {},
    "colab_type": "code",
    "id": "oueypbuXPZuJ",
    "scrolled": true
   },
   "outputs": [
    {
     "data": {
      "text/plain": [
       "0.99"
      ]
     },
     "execution_count": 28,
     "metadata": {},
     "output_type": "execute_result"
    }
   ],
   "source": [
    "# your code here\n",
    "# hint: you can use array operations or a for loop\n",
    "s = 0;\n",
    "for t in durations:\n",
    "    if t >= 60:\n",
    "        s += 1\n",
    "s/len(durations)"
   ]
  },
  {
   "cell_type": "markdown",
   "metadata": {},
   "source": [
    "The fraction is similar to the probability that the total stay is at least two months."
   ]
  },
  {
   "cell_type": "code",
   "execution_count": null,
   "metadata": {},
   "outputs": [],
   "source": [
    "In Three Months?"
   ]
  },
  {
   "cell_type": "code",
   "execution_count": 40,
   "metadata": {
    "colab": {},
    "colab_type": "code",
    "id": "ppxLySLdkKav"
   },
   "outputs": [
    {
     "data": {
      "text/plain": [
       "0.4363934426229508"
      ]
     },
     "execution_count": 40,
     "metadata": {},
     "output_type": "execute_result"
    }
   ],
   "source": [
    "# calculate\n",
    "# your code here\n",
    "s = 0;\n",
    "for t in durations:\n",
    "    if t >= 90:\n",
    "        s += 1\n",
    "s/len(durations)"
   ]
  },
  {
   "cell_type": "markdown",
   "metadata": {
    "colab_type": "text",
    "id": "1Q4of2ckOKtY"
   },
   "source": [
    "**Q:** Now compute the true mean of the total stay time of 20 randomly selected stays. Is the true mean in the 95% confidence interval? How close was it to the mean of the random samples?"
   ]
  },
  {
   "cell_type": "code",
   "execution_count": null,
   "metadata": {
    "colab": {},
    "colab_type": "code",
    "id": "8kuX_0Vhkqt4",
    "scrolled": true
   },
   "outputs": [],
   "source": [
    "# expected total stay length\n",
    "# your code here\n",
    "k = sumTime(random.sample(list(data[\"time_in_hospital\"]), 20))\n",
    "print(k)\n",
    "print(np.mean(durations))"
   ]
  },
  {
   "cell_type": "markdown",
   "metadata": {},
   "source": [
    "Yes, it's in the 95% CI; somewhat close to the mean of the random samples"
   ]
  },
  {
   "cell_type": "markdown",
   "metadata": {
    "colab_type": "text",
    "id": "dYtL16c1OdcC"
   },
   "source": [
    "**Q:** Do all this again drawing 1000 random samples instead of 100. How does the empirical mean duration compare to the true mean duration now?"
   ]
  },
  {
   "cell_type": "code",
   "execution_count": null,
   "metadata": {
    "colab": {},
    "colab_type": "code",
    "id": "iwDhIwSpekjW"
   },
   "outputs": [],
   "source": [
    "# 1000 samples\n",
    "# your code here\n",
    "samples = []\n",
    "for i in range(1000):\n",
    "    k = sumTime(random.sample(list(data[\"time_in_hospital\"]), 20))\n",
    "    durations.append(k)\n",
    "s = sum(k)\n",
    "print(s)\n",
    "\n",
    "print(np.mean(k))\n",
    "plt.hist(k);"
   ]
  },
  {
   "cell_type": "markdown",
   "metadata": {
    "colab_type": "text",
    "id": "J112Zul3QCzK"
   },
   "source": [
    "**Q:** What is the shape of this histogram? Why is the shape different than the histogram of 100 durations above? How do you expect this to look if you sampled 10000 durations, or 100000? (Hint: recall the central limit theorem.)"
   ]
  },
  {
   "cell_type": "markdown",
   "metadata": {
    "colab_type": "text",
    "id": "UM3Tge8lcq29"
   },
   "source": []
  }
 ],
 "metadata": {
  "colab": {
   "collapsed_sections": [],
   "name": "ORIE3120_Recitation_9.ipynb",
   "provenance": []
  },
  "kernelspec": {
   "display_name": "Python 3",
   "language": "python",
   "name": "python3"
  },
  "language_info": {
   "codemirror_mode": {
    "name": "ipython",
    "version": 3
   },
   "file_extension": ".py",
   "mimetype": "text/x-python",
   "name": "python",
   "nbconvert_exporter": "python",
   "pygments_lexer": "ipython3",
   "version": "3.8.1"
  }
 },
 "nbformat": 4,
 "nbformat_minor": 2
}
