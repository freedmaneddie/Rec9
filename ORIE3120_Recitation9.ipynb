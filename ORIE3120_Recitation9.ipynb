{
 "cells": [
  {
   "cell_type": "markdown",
   "metadata": {
    "colab_type": "text",
    "id": "M_sj9n9iJwxh"
   },
   "source": [
    "# Welcome to Recitation 9!\n",
    "This recitation, we'll familiarize ourselves with Python and dive into some interesting data analysis using Python libraries.\n"
   ]
  },
  {
   "cell_type": "markdown",
   "metadata": {
    "colab_type": "text",
    "id": "xKP8Pq4mYyM_"
   },
   "source": [
    "This is a markdown cell. Try double clicking on this cell to correct the typo in this sentence:\n",
    "\n",
    "\"ORIE 3120 teaches impractical tools for operations research, data science, and machine learning.\""
   ]
  },
  {
   "cell_type": "markdown",
   "metadata": {
    "colab_type": "text",
    "id": "Dh9soj6lKB9_"
   },
   "source": [
    "The next cell will import the packages we need. Run it with ctrl-enter (PC) or cmd-enter (mac)."
   ]
  },
  {
   "cell_type": "code",
   "execution_count": null,
   "metadata": {
    "colab": {},
    "colab_type": "code",
    "id": "CoP3YPMlJj1y"
   },
   "outputs": [],
   "source": [
    "import numpy as np\n",
    "import pandas as pd\n",
    "import matplotlib.pyplot as plt\n",
    "import random"
   ]
  },
  {
   "cell_type": "markdown",
   "metadata": {
    "colab_type": "text",
    "id": "YUdrMdGhJhAq"
   },
   "source": [
    "Let's practice assigning values to variables. We've assigned `a` to have the value 4. \n",
    "\n",
    "**Q:** Assign `b` to have the value 17 by double-clicking and editing the cell below."
   ]
  },
  {
   "cell_type": "code",
   "execution_count": null,
   "metadata": {
    "colab": {},
    "colab_type": "code",
    "id": "hQe6CpFKKpDq"
   },
   "outputs": [],
   "source": [
    "a = 4\n",
    "b = #your code here"
   ]
  },
  {
   "cell_type": "markdown",
   "metadata": {
    "colab_type": "text",
    "id": "le4EorsBJi_C"
   },
   "source": [
    "Unlike Java, Python is dynamically typed which means at declaration, there is no requirement to specify a data type. Furthermore, we can change a variable name from one type to another without any error. \n",
    "\n",
    "The following cell contains variables of the string types.\n",
    "\n",
    "**Q:** Concatentate the two strings below with the \"+\" operator and print the cell to confirm that it works\n"
   ]
  },
  {
   "cell_type": "code",
   "execution_count": null,
   "metadata": {
    "colab": {},
    "colab_type": "code",
    "id": "kGj-av0qKZJ3"
   },
   "outputs": [],
   "source": [
    "s1 = \"foo\"\n",
    "s2 = \"bar\"\n",
    "\n",
    "###your code here ###"
   ]
  },
  {
   "cell_type": "markdown",
   "metadata": {
    "colab_type": "text",
    "id": "xt7aws-YK1gn"
   },
   "source": [
    "This allows the user more flexibity but increased responsibility of maintaining type invariants so that thier program doesn't crash. For example, Python will not accept a string being concatenated with a integer or float.\n",
    "\n",
    "**Q:** Before running the cell, what do you think the following will print? Will any of these throw an error?"
   ]
  },
  {
   "cell_type": "code",
   "execution_count": null,
   "metadata": {
    "colab": {
     "base_uri": "https://localhost:8080/",
     "height": 228
    },
    "colab_type": "code",
    "id": "376aVvrwLV-n",
    "outputId": "ec0b1e0d-8a14-4f9f-9d41-683aa84a2501"
   },
   "outputs": [],
   "source": [
    "print(\"Print statement 1: \" + '2' + '2')\n",
    "print(\"Print statement 2: \" ,  2  +  2 )\n",
    "print(\"Print statement 3: \" , 2 +  '2' )"
   ]
  },
  {
   "cell_type": "markdown",
   "metadata": {
    "colab_type": "text",
    "id": "SAQlBZIjMIgS"
   },
   "source": [
    "Another core data structure is a list. There are many ways to create a list. Below are a couple of the ways of creating a list. Detailed below are two key functions when operating with lists: \n",
    "\n",
    "\"len(someList)\" will return the number of elements in that list.\n",
    "\n",
    "\"someList.append(x)\" will add the value located in the variable x to the end of someList.\n",
    "\n",
    "**Q:** Create your own list that includes all integers from 7 to 20 (inclusive) using the range function\n"
   ]
  },
  {
   "cell_type": "code",
   "execution_count": null,
   "metadata": {
    "colab": {
     "base_uri": "https://localhost:8080/",
     "height": 33
    },
    "colab_type": "code",
    "id": "080D2LzKMl_e",
    "outputId": "f2f3d837-94af-4858-9129-149d078ceee4"
   },
   "outputs": [],
   "source": [
    "# These all create the same list\n",
    "lst1 = [0,1,2,3,4]    \n",
    "lst2 = list(range(5))\n",
    "lst3 = list(range(0,5))\n",
    "lst3 = list(range(0,5,1))   \n",
    "# range(start, end, incremental) \n",
    "# NOTE: range does not include the end number\n",
    "# Also pass your variable into the list() function to convert to a list\n",
    "\n",
    "### Your code\n",
    "yourList = [] #?? - replace the []\n",
    "###\n",
    "\n",
    "print(\"Does your list correctly answer the question? \", yourList == [7,8,9,10,11,12,13,14,15,16,17,18,19,20])"
   ]
  },
  {
   "cell_type": "markdown",
   "metadata": {
    "colab_type": "text",
    "id": "ZBaJpu_TS87m"
   },
   "source": [
    "Indexing in Python starts at 0 and is very convenient. You can also index backwards from the end of the list with negative numbers as shown below.\n",
    "\n",
    "**Q:** Print the product of the 1st element, the fifth element, and the last element from `yourList`.  "
   ]
  },
  {
   "cell_type": "code",
   "execution_count": null,
   "metadata": {
    "colab": {
     "base_uri": "https://localhost:8080/",
     "height": 228
    },
    "colab_type": "code",
    "id": "TjtLO6duUPJH",
    "outputId": "6330d8c7-abb1-4b9b-cd88-3cd32d7a6b70"
   },
   "outputs": [],
   "source": [
    "print(yourList[0]) # Accessing the first element\n",
    "print(yourList[1]) # Accessing the second element\n",
    "print(yourList[-1]) # Accessing the last element\n",
    "print(yourList[-2]) # Accessing the second to last element\n",
    "\n",
    "\n",
    "### your code\n",
    "\n",
    "###"
   ]
  },
  {
   "cell_type": "markdown",
   "metadata": {
    "colab_type": "text",
    "id": "vWeS97uRMk5X"
   },
   "source": [
    "We can easily iterate through lists and manipulate their contents. \n",
    "We can also segment code into functions that are easy to reuse.\n",
    "\n",
    "Below we define a function `factNumber` that takes in a positive number $n$ and returns its factorial $n!$. For example, 1! = 1 and 3! = 6.\n",
    "\n",
    "**Q:** Below is a for loop that will iterate over `yourList`. Can you find the sum of the factorials of the numbers in `yourList`?"
   ]
  },
  {
   "cell_type": "code",
   "execution_count": null,
   "metadata": {
    "colab": {
     "base_uri": "https://localhost:8080/",
     "height": 128
    },
    "colab_type": "code",
    "id": "jNyiv-SbQabR",
    "outputId": "1569c0a5-9598-4505-a809-9fd1f48af074"
   },
   "outputs": [],
   "source": [
    "def factNumber(x):\n",
    "  factorialList = [1,1]\n",
    "  i = 2\n",
    "  while(len(factorialList) - 1< x):\n",
    "    factorialList.append(factorialList[-1]*i)\n",
    "    i = i+1\n",
    "  return factorialList[-1]\n",
    "\n",
    "aggregateSum = 0\n",
    "for x in yourList:\n",
    "  ### Your code\n",
    "  # Remember to call the function factNumber(someValue)\n",
    "\n",
    "  ###\n",
    "\n",
    "# This you should print 2561327494111819440\n",
    "print(aggregateSum)"
   ]
  },
  {
   "cell_type": "markdown",
   "metadata": {
    "colab_type": "text",
    "id": "BQU8xsreTXYM"
   },
   "source": [
    "**Q:** Now define your own function using the code above that takes in a list containing positive entries and returns the sum of their factorials."
   ]
  },
  {
   "cell_type": "code",
   "execution_count": null,
   "metadata": {
    "colab": {
     "base_uri": "https://localhost:8080/",
     "height": 33
    },
    "colab_type": "code",
    "id": "Jc1Hcd9GTkAk",
    "outputId": "f7eec3d4-0e0f-428e-af58-164dcd004f03"
   },
   "outputs": [],
   "source": [
    "### your code\n",
    "def yourFunc(someList):\n",
    "  ### Input should be array, dataset of random numbers\n",
    "  someVal = 0\n",
    "  return someVal # Make sure to change someVal\n",
    "###\n",
    "\n",
    "# Calling it should print the same as above\n",
    "print(yourFunc(yourList))"
   ]
  },
  {
   "cell_type": "markdown",
   "metadata": {
    "colab_type": "text",
    "id": "N3tcUqVKZOPp"
   },
   "source": [
    "# Data Analysis\n",
    "\n",
    "Now suppose we are consulting with Cayuga Medical Center, a local hospital. They would like us to help them better understand the length of stay for diabetic patients. This information will allow them to plan beds availabilities more efficiently. "
   ]
  },
  {
   "cell_type": "markdown",
   "metadata": {
    "colab_type": "text",
    "id": "R8j7LOMcLSc0"
   },
   "source": [
    "Import the dataset `diabetic_data.csv` using `pandas`.\n",
    "Look at the data. \n",
    "\n",
    "**Q:** What type is the data in each column?"
   ]
  },
  {
   "cell_type": "code",
   "execution_count": null,
   "metadata": {
    "colab": {},
    "colab_type": "code",
    "id": "7p1EJBf6TGwC"
   },
   "outputs": [],
   "source": [
    "# your code to import data here\n",
    "# check data types"
   ]
  },
  {
   "cell_type": "markdown",
   "metadata": {
    "colab_type": "text",
    "id": "QCM0b23GLvbX"
   },
   "source": [
    "Each day 20 patients arrive at our hospital. We'll call that group of 20 patients a **cohort**. We are interested in the duration of hospital stays for cohorts so that we can ensure we have enough beds. \n",
    "\n",
    "**Q:** Take a random sample of 20 patients. Try running this command 3 times to see that the cohort is different every time. "
   ]
  },
  {
   "cell_type": "code",
   "execution_count": null,
   "metadata": {
    "colab": {},
    "colab_type": "code",
    "id": "_0WCm8DnTXMT"
   },
   "outputs": [],
   "source": [
    "# generate 20 random numbers from the data set of patient stays\n",
    "# your code here\n",
    "#hint: use the random library"
   ]
  },
  {
   "cell_type": "markdown",
   "metadata": {
    "colab_type": "text",
    "id": "6Df5yhilb27g"
   },
   "source": [
    "**Q:** Write a function to compute the total time a list of patients will spend in the hospital. The input should be the column specifying time spent in hospital, and the output should be the sum of the time your random sample of 20 patients spend in the hospital.\n"
   ]
  },
  {
   "cell_type": "code",
   "execution_count": null,
   "metadata": {
    "colab": {},
    "colab_type": "code",
    "id": "VjvUI-pWb8nv"
   },
   "outputs": [],
   "source": [
    "#your code here"
   ]
  },
  {
   "cell_type": "markdown",
   "metadata": {
    "colab_type": "text",
    "id": "ePsjeo5yZZyA"
   },
   "source": [
    "**Q:** Apply your function to three randomly chosen lists of 20 patients to see that the total time is different on each cohort."
   ]
  },
  {
   "cell_type": "code",
   "execution_count": null,
   "metadata": {
    "colab": {},
    "colab_type": "code",
    "id": "prhbqgWTdCrF"
   },
   "outputs": [],
   "source": [
    "#your code here"
   ]
  },
  {
   "cell_type": "markdown",
   "metadata": {
    "colab_type": "text",
    "id": "RIgAXI-sMOYb"
   },
   "source": [
    "Let's compute the duration of 100 random samples and collect these in the list `durations`. Plot the resulting distribution with `plt.hist()`. \n",
    "\n",
    "**Q:** What is the mean duration among these samples?"
   ]
  },
  {
   "cell_type": "code",
   "execution_count": null,
   "metadata": {
    "colab": {},
    "colab_type": "code",
    "id": "MJNgUJP0dl6U"
   },
   "outputs": [],
   "source": [
    "#your code here"
   ]
  },
  {
   "cell_type": "markdown",
   "metadata": {
    "colab_type": "text",
    "id": "_4BE-ghN0za-"
   },
   "source": [
    "**Q:** Describe the shape of this distribution. "
   ]
  },
  {
   "cell_type": "markdown",
   "metadata": {
    "colab_type": "text",
    "id": "fovxlSHC078k"
   },
   "source": []
  },
  {
   "cell_type": "markdown",
   "metadata": {
    "colab_type": "text",
    "id": "l-DWaTKVMg6t"
   },
   "source": [
    "**Q:** \n",
    "\n",
    "a) What is the expected duration of stay for one patient drawn at random from our original dataset?\n",
    "\n",
    "b) We assume independence and identical distribution in our dataset. So, we can multiply our value in part a by 20 to get expected duration of stay for a cohort of 20 people. We will call this the **true mean** duration of stay for a cohort. Calculate the true mean for a cohort. \n",
    "\n",
    "c) How is our result in part b expected to vary across our 100 random samples of 20 patients each?"
   ]
  },
  {
   "cell_type": "code",
   "execution_count": null,
   "metadata": {
    "colab": {},
    "colab_type": "code",
    "id": "we4idMIte2jB"
   },
   "outputs": [],
   "source": [
    "# use numpy\n",
    "#your code here"
   ]
  },
  {
   "cell_type": "markdown",
   "metadata": {
    "colab_type": "text",
    "id": "Oz6nKv30NAGG"
   },
   "source": [
    "**Q:** What fraction of the durations of the random cohorts had a total stay of at least two months (60 days)? Explain how to use this to estimate the probability that the total stay is at least two months."
   ]
  },
  {
   "cell_type": "code",
   "execution_count": null,
   "metadata": {
    "colab": {},
    "colab_type": "code",
    "id": "oueypbuXPZuJ"
   },
   "outputs": [],
   "source": [
    "# your code here\n",
    "# hint: you can use array operations or a for loop"
   ]
  },
  {
   "cell_type": "markdown",
   "metadata": {
    "colab_type": "text",
    "id": "rYbB9pAZkIp1"
   },
   "source": [
    "**Q:** At least three months?"
   ]
  },
  {
   "cell_type": "code",
   "execution_count": null,
   "metadata": {
    "colab": {},
    "colab_type": "code",
    "id": "ppxLySLdkKav"
   },
   "outputs": [],
   "source": [
    "# calculate\n",
    "# your code here"
   ]
  },
  {
   "cell_type": "markdown",
   "metadata": {
    "colab_type": "text",
    "id": "1Q4of2ckOKtY"
   },
   "source": [
    "**Q:** Now compute the true mean of the total stay time of 20 randomly selected stays. Is the true mean in the 95% confidence interval? How close was it to the mean of the random samples?"
   ]
  },
  {
   "cell_type": "code",
   "execution_count": null,
   "metadata": {
    "colab": {},
    "colab_type": "code",
    "id": "8kuX_0Vhkqt4"
   },
   "outputs": [],
   "source": [
    "# expected total stay length\n",
    "# your code here"
   ]
  },
  {
   "cell_type": "markdown",
   "metadata": {
    "colab_type": "text",
    "id": "dYtL16c1OdcC"
   },
   "source": [
    "**Q:** Do all this again drawing 1000 random samples instead of 100. How does the empirical mean duration compare to the true mean duration now?"
   ]
  },
  {
   "cell_type": "code",
   "execution_count": null,
   "metadata": {
    "colab": {},
    "colab_type": "code",
    "id": "iwDhIwSpekjW"
   },
   "outputs": [],
   "source": [
    "# 1000 samples\n",
    "# your code here\n",
    "\n",
    "#print(np.mean(#your variable here))\n",
    "#plt.hist(#your variable here);"
   ]
  },
  {
   "cell_type": "markdown",
   "metadata": {
    "colab_type": "text",
    "id": "J112Zul3QCzK"
   },
   "source": [
    "**Q:** What is the shape of this histogram? Why is the shape different than the histogram of 100 durations above? How do you expect this to look if you sampled 10000 durations, or 100000? (Hint: recall the central limit theorem.)"
   ]
  },
  {
   "cell_type": "markdown",
   "metadata": {
    "colab_type": "text",
    "id": "UM3Tge8lcq29"
   },
   "source": []
  }
 ],
 "metadata": {
  "colab": {
   "collapsed_sections": [],
   "name": "ORIE3120_Recitation_9.ipynb",
   "provenance": []
  },
  "kernelspec": {
   "display_name": "Python 3",
   "language": "python",
   "name": "python3"
  },
  "language_info": {
   "codemirror_mode": {
    "name": "ipython",
    "version": 3
   },
   "file_extension": ".py",
   "mimetype": "text/x-python",
   "name": "python",
   "nbconvert_exporter": "python",
   "pygments_lexer": "ipython3",
   "version": "3.7.3"
  }
 },
 "nbformat": 4,
 "nbformat_minor": 2
}
